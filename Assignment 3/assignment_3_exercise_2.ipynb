{
 "cells": [
  {
   "cell_type": "code",
   "execution_count": 12,
   "metadata": {},
   "outputs": [
    {
     "name": "stdout",
     "output_type": "stream",
     "text": [
      "The autoreload extension is already loaded. To reload it, use:\n",
      "  %reload_ext autoreload\n"
     ]
    }
   ],
   "source": [
    "%load_ext autoreload\n",
    "%autoreload 2"
   ]
  },
  {
   "cell_type": "code",
   "execution_count": 13,
   "metadata": {},
   "outputs": [
    {
     "name": "stdout",
     "output_type": "stream",
     "text": [
      "Using device: cuda\n"
     ]
    }
   ],
   "source": [
    "import torch\n",
    "import torch.nn as nn\n",
    "import numpy as np\n",
    "import matplotlib.pyplot as plt\n",
    "from torch.utils.data import DataLoader, TensorDataset\n",
    "from time import time\n",
    "from utils import train_neural_network, load_warwick\n",
    "\n",
    "device = torch.device('cuda' if torch.cuda.is_available() else 'cpu')\n",
    "print('Using device:', device)"
   ]
  },
  {
   "cell_type": "code",
   "execution_count": 14,
   "metadata": {},
   "outputs": [],
   "source": [
    "batch_size = 16\n",
    "X_train, Y_train, X_test, Y_test = load_warwick(device)\n",
    "# create dataloader\n",
    "train_dataset = torch.utils.data.TensorDataset(X_train, Y_train)\n",
    "test_dataset = torch.utils.data.TensorDataset(X_test, Y_test)\n",
    "train_loader = torch.utils.data.DataLoader(train_dataset, batch_size=batch_size, shuffle=False)\n",
    "test_loader = torch.utils.data.DataLoader(test_dataset, batch_size=batch_size, shuffle=False)"
   ]
  },
  {
   "cell_type": "code",
   "execution_count": 15,
   "metadata": {},
   "outputs": [
    {
     "name": "stdout",
     "output_type": "stream",
     "text": [
      "torch.Size([85, 3, 128, 128])\n",
      "torch.Size([85, 128, 128])\n"
     ]
    }
   ],
   "source": [
    "# look at the size of image and label\n",
    "print(X_train.size())\n",
    "print(Y_train.size())"
   ]
  },
  {
   "cell_type": "code",
   "execution_count": 16,
   "metadata": {},
   "outputs": [],
   "source": [
    "# Define the modified CNN architecture\n",
    "class ModifiedCNN(nn.Module):\n",
    "    def __init__(self):\n",
    "        super(ModifiedCNN, self).__init__()\n",
    "        self.conv1 = nn.Conv2d(3, 16, 3, padding=1)  # Add padding to preserve spatial dimensions\n",
    "        self.relu1 = nn.ReLU()\n",
    "        self.conv2 = nn.Conv2d(16, 32, 3, padding=1)  # Add padding to preserve spatial dimensions\n",
    "        self.relu2 = nn.ReLU()\n",
    "        self.conv3 = nn.Conv2d(32, 64, 3, padding=1)  # Add padding to preserve spatial dimensions\n",
    "        self.relu3 = nn.ReLU()\n",
    "        self.conv4 = nn.Conv2d(64, 128, 3, padding=1)  # Add padding to preserve spatial dimensions\n",
    "        self.relu4 = nn.ReLU()\n",
    "        self.conv5 = nn.Conv2d(128, 1, 3, padding=1)  # Adjust output channels to 1\n",
    "    def forward(self, x):\n",
    "        x = self.conv1(x)\n",
    "        x = self.relu1(x)\n",
    "        x = self.conv2(x)\n",
    "        x = self.relu2(x)\n",
    "        x = self.conv3(x)\n",
    "        x = self.relu3(x)\n",
    "        x = self.conv4(x)\n",
    "        x = self.relu4(x)\n",
    "        x = self.conv5(x)\n",
    "        return x.squeeze()\n",
    "\n",
    "# Create an instance of the modified CNN\n",
    "model = ModifiedCNN()\n",
    "\n",
    "# Define the loss function\n",
    "criterion = nn.BCEWithLogitsLoss()\n",
    "\n",
    "# Define the optimizer\n",
    "optimizer = torch.optim.Adam(model.parameters(), lr=0.001)"
   ]
  },
  {
   "cell_type": "code",
   "execution_count": 17,
   "metadata": {},
   "outputs": [],
   "source": [
    "def dice_coefficient(outputs, targets):\n",
    "    eps = 1e-8\n",
    "    intersection = torch.sum(abs(outputs) * abs(targets))\n",
    "    union = torch.sum(outputs) + torch.sum(targets)\n",
    "    dice = (2. * intersection) / abs(union + eps)\n",
    "    return dice"
   ]
  },
  {
   "cell_type": "code",
   "execution_count": 18,
   "metadata": {},
   "outputs": [],
   "source": [
    "def training_curve_plot(title, train_losses, test_losses, train_accuracy, test_accuracy):\n",
    "    \"\"\" \n",
    "    convenience function for plotting train and test loss and accuracy\n",
    "    \"\"\"\n",
    "    lg=13\n",
    "    md=8\n",
    "    sm=7\n",
    "    fig, axs = plt.subplots(1, 2, figsize=(10, 4))\n",
    "    fig.suptitle(title, fontsize=md)\n",
    "    x = range(1, len(train_losses)+1)\n",
    "    axs[0].plot(x, train_losses, label=f'Final train loss: {train_losses[-1]:.4f}')\n",
    "    axs[0].plot(x, test_losses, label=f'Final test loss: {test_losses[-1]:.4f}')\n",
    "    axs[0].set_title('Losses', fontsize=md)\n",
    "    axs[0].set_xlabel('Iteration', fontsize=md)\n",
    "    axs[0].set_ylabel('Loss', fontsize=md)\n",
    "    axs[0].legend(fontsize=sm)\n",
    "    axs[0].tick_params(axis='both', labelsize=sm)\n",
    "    # Optionally use a logarithmic y-scale\n",
    "    #axs[0].set_yscale('log')\n",
    "    axs[0].grid(True, which=\"both\", linestyle='--', linewidth=0.5)\n",
    "    axs[1].plot(x, train_accuracy, label=f'Final train dice: {train_accuracy[-1]:.4f}%')\n",
    "    axs[1].plot(x, test_accuracy, label=f'Final test dice: {test_accuracy[-1]:.4f}%')\n",
    "    axs[1].set_title('dice', fontsize=md)\n",
    "    axs[1].set_xlabel('Iteration', fontsize=md)\n",
    "    axs[1].set_ylabel('dice (%)', fontsize=sm)\n",
    "    axs[1].legend(fontsize=sm)\n",
    "    axs[1].tick_params(axis='both', labelsize=sm)\n",
    "    axs[1].grid(True, which=\"both\", linestyle='--', linewidth=0.5)\n",
    "    plt.show()"
   ]
  },
  {
   "cell_type": "code",
   "execution_count": 24,
   "metadata": {},
   "outputs": [],
   "source": [
    "def train_network(model: nn.Module, criteria: nn.Module, \n",
    "                  optimizer: torch.optim.Optimizer, num_epochs: int, train_loader: DataLoader, \n",
    "                  test_loader: DataLoader, device: torch.device, model_name: str, lr: float) -> None:\n",
    "    \"\"\"\n",
    "    Train a neural network model\n",
    "    \n",
    "    Args:\n",
    "        model: The neural network model to be trained\n",
    "        criteria: The loss function\n",
    "        optimizer: The optimizer\n",
    "        num_epochs: The number of epochs to train the model\n",
    "        train_loader: The training data loader\n",
    "        test_loader: The test data loader\n",
    "        device: The device to run the model on\n",
    "    \"\"\"\n",
    "    train_losses = []\n",
    "    test_losses = []\n",
    "    train_dice_scores = []\n",
    "    test_dice_scores = []\n",
    "    start = time()\n",
    "    for epoch in range(num_epochs):\n",
    "        model.train()\n",
    "        train_loss = 0\n",
    "        train_dice = 0\n",
    "\n",
    "        for i, (images, labels) in enumerate(train_loader):\n",
    "            images, labels = images.to(device), labels.to(device)\n",
    "            optimizer.zero_grad()\n",
    "            outputs = model(images)\n",
    "            loss = criteria(outputs, labels)\n",
    "            train_loss += loss.item()\n",
    "            loss.backward()\n",
    "            optimizer.step()\n",
    "\n",
    "            # Calculate Dice score\n",
    "            outputs = (outputs > 0.5).float()\n",
    "            dice = dice_coefficient(outputs, labels)\n",
    "            train_dice += dice.item()\n",
    "        \n",
    "        train_losses.append(train_loss / len(train_loader))\n",
    "        train_dice_scores.append(train_dice / len(train_loader))\n",
    "    \n",
    "        model.eval()\n",
    "        test_loss = 0\n",
    "        test_dice = 0\n",
    "\n",
    "        with torch.no_grad():\n",
    "            for i, (images, labels) in enumerate(test_loader):\n",
    "                images, labels = images.to(device), labels.to(device)\n",
    "                outputs = model(images)\n",
    "                loss = criteria(outputs, labels)\n",
    "                test_loss += loss.item()\n",
    "\n",
    "                # Calculate Dice score\n",
    "                outputs = (outputs > 0.5).float()\n",
    "                dice = dice_coefficient(outputs, labels)\n",
    "                test_dice += dice.item()\n",
    "            \n",
    "            test_losses.append(test_loss / len(test_loader))\n",
    "            test_dice_scores.append(test_dice / len(test_loader))\n",
    "        \n",
    "        print(f'Epoch {epoch+1}/{num_epochs}, Train Loss: {train_losses[-1]:.4f}, Test Loss: {test_losses[-1]:.4f}, Train Dice Score: {train_dice_scores[-1]:.4f}, Test Dice Score: {test_dice_scores[-1]:.4f}')\n",
    "    total = time() - start\n",
    "    plot_title = f'{model_name} - lr: {lr} - Total Time: {total//60:.0f}min {total%60:.2f}s, Epochs: {num_epochs}'\n",
    "    training_curve_plot(plot_title,train_losses, test_losses, train_dice_scores, test_dice_scores)"
   ]
  },
  {
   "cell_type": "code",
   "execution_count": 20,
   "metadata": {},
   "outputs": [
    {
     "name": "stdout",
     "output_type": "stream",
     "text": [
      "Input shape: torch.Size([85, 3, 128, 128])\n",
      "Label shape: torch.Size([85, 128, 128])\n"
     ]
    }
   ],
   "source": [
    "print(f\"Input shape: {train_loader.dataset.tensors[0].shape}\")\n",
    "print(f\"Label shape: {train_loader.dataset.tensors[1].shape}\")"
   ]
  },
  {
   "cell_type": "code",
   "execution_count": 25,
   "metadata": {},
   "outputs": [
    {
     "name": "stdout",
     "output_type": "stream",
     "text": [
      "Epoch 1/100, Train Loss: 1.0357, Test Loss: 0.7105, Train Dice Score: 0.1490, Test Dice Score: 0.3827\n",
      "Epoch 2/100, Train Loss: 0.6918, Test Loss: 0.6923, Train Dice Score: 0.2526, Test Dice Score: 0.0525\n",
      "Epoch 3/100, Train Loss: 0.6800, Test Loss: 0.6724, Train Dice Score: 0.0118, Test Dice Score: 0.0188\n",
      "Epoch 4/100, Train Loss: 0.6579, Test Loss: 0.6617, Train Dice Score: 0.1289, Test Dice Score: 0.3773\n",
      "Epoch 5/100, Train Loss: 0.6210, Test Loss: 0.6981, Train Dice Score: 0.5156, Test Dice Score: 0.4885\n",
      "Epoch 6/100, Train Loss: 0.5909, Test Loss: 0.6895, Train Dice Score: 0.6034, Test Dice Score: 0.5007\n",
      "Epoch 7/100, Train Loss: 0.5706, Test Loss: 0.6759, Train Dice Score: 0.5895, Test Dice Score: 0.5291\n",
      "Epoch 8/100, Train Loss: 0.5666, Test Loss: 0.7175, Train Dice Score: 0.5717, Test Dice Score: 0.5673\n",
      "Epoch 9/100, Train Loss: 0.5578, Test Loss: 0.6894, Train Dice Score: 0.5979, Test Dice Score: 0.5658\n",
      "Epoch 10/100, Train Loss: 0.5472, Test Loss: 0.6329, Train Dice Score: 0.6221, Test Dice Score: 0.5484\n",
      "Epoch 11/100, Train Loss: 0.5324, Test Loss: 0.6228, Train Dice Score: 0.6431, Test Dice Score: 0.5685\n",
      "Epoch 12/100, Train Loss: 0.5210, Test Loss: 0.6031, Train Dice Score: 0.6484, Test Dice Score: 0.5774\n"
     ]
    }
   ],
   "source": [
    "# Hyperparameters\n",
    "num_epochs = 100\n",
    "learning_rate = 0.001   \n",
    "model = ModifiedCNN().to(device)\n",
    "criterion = nn.BCEWithLogitsLoss()\n",
    "optimizer = torch.optim.Adam(model.parameters(), lr=learning_rate)\n",
    "train_network(model, criterion, optimizer, num_epochs=num_epochs,train_loader=train_loader, test_loader=test_loader,  device=device, model_name='Modified CNN', lr=learning_rate)"
   ]
  },
  {
   "cell_type": "code",
   "execution_count": 22,
   "metadata": {},
   "outputs": [],
   "source": [
    "test_model = ModifiedCNN().to(device)\n",
    "optimizer = torch.optim.Adam(test_model.parameters(), lr=0.001)\n",
    "test_model.train()\n",
    "optimizer.zero_grad()\n",
    "outputs = test_model(X_train[0])\n",
    "loss = criterion(outputs, Y_train[0])\n",
    "train_loss = loss\n",
    "loss.backward()\n",
    "optimizer.step()"
   ]
  }
 ],
 "metadata": {
  "kernelspec": {
   "display_name": "Python 3",
   "language": "python",
   "name": "python3"
  },
  "language_info": {
   "codemirror_mode": {
    "name": "ipython",
    "version": 3
   },
   "file_extension": ".py",
   "mimetype": "text/x-python",
   "name": "python",
   "nbconvert_exporter": "python",
   "pygments_lexer": "ipython3",
   "version": "3.11.0"
  }
 },
 "nbformat": 4,
 "nbformat_minor": 2
}
